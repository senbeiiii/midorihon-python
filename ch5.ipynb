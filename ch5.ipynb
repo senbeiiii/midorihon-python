{
 "cells": [
  {
   "cell_type": "code",
   "execution_count": 1,
   "metadata": {},
   "outputs": [],
   "source": [
    "import pandas as pd\n",
    "import statsmodels.api as sm\n",
    "import numpy as np\n",
    "import matplotlib.pyplot as plt\n",
    "%matplotlib inline\n",
    "from scipy.stats import chi2"
   ]
  },
  {
   "cell_type": "code",
   "execution_count": 2,
   "metadata": {},
   "outputs": [
    {
     "data": {
      "text/html": [
       "<div>\n",
       "<style scoped>\n",
       "    .dataframe tbody tr th:only-of-type {\n",
       "        vertical-align: middle;\n",
       "    }\n",
       "\n",
       "    .dataframe tbody tr th {\n",
       "        vertical-align: top;\n",
       "    }\n",
       "\n",
       "    .dataframe thead th {\n",
       "        text-align: right;\n",
       "    }\n",
       "</style>\n",
       "<table border=\"1\" class=\"dataframe\">\n",
       "  <thead>\n",
       "    <tr style=\"text-align: right;\">\n",
       "      <th></th>\n",
       "      <th>y</th>\n",
       "      <th>x</th>\n",
       "      <th>f</th>\n",
       "    </tr>\n",
       "  </thead>\n",
       "  <tbody>\n",
       "    <tr>\n",
       "      <th>0</th>\n",
       "      <td>6</td>\n",
       "      <td>8.31</td>\n",
       "      <td>C</td>\n",
       "    </tr>\n",
       "    <tr>\n",
       "      <th>1</th>\n",
       "      <td>6</td>\n",
       "      <td>9.44</td>\n",
       "      <td>C</td>\n",
       "    </tr>\n",
       "    <tr>\n",
       "      <th>2</th>\n",
       "      <td>6</td>\n",
       "      <td>9.50</td>\n",
       "      <td>C</td>\n",
       "    </tr>\n",
       "    <tr>\n",
       "      <th>3</th>\n",
       "      <td>12</td>\n",
       "      <td>9.07</td>\n",
       "      <td>C</td>\n",
       "    </tr>\n",
       "    <tr>\n",
       "      <th>4</th>\n",
       "      <td>10</td>\n",
       "      <td>10.16</td>\n",
       "      <td>C</td>\n",
       "    </tr>\n",
       "  </tbody>\n",
       "</table>\n",
       "</div>"
      ],
      "text/plain": [
       "    y      x  f\n",
       "0   6   8.31  C\n",
       "1   6   9.44  C\n",
       "2   6   9.50  C\n",
       "3  12   9.07  C\n",
       "4  10  10.16  C"
      ]
     },
     "execution_count": 2,
     "metadata": {},
     "output_type": "execute_result"
    }
   ],
   "source": [
    "df = pd.read_csv('data3a.csv')\n",
    "df.head(5)"
   ]
  },
  {
   "cell_type": "code",
   "execution_count": 3,
   "metadata": {},
   "outputs": [],
   "source": [
    "def calc_delta_d(x, y):\n",
    "    \"\"\"一定モデルとxモデルの逸脱度の差を求める\n",
    "\n",
    "    Args:\n",
    "        x: サイズ\n",
    "        y: 種子数\n",
    "\n",
    "    Returns:\n",
    "        const_d - x_d (float): 逸脱度の差\n",
    "        const_result: 一定モデルの結果\n",
    "        x_result: xモデルの結果\n",
    "    \"\"\"\n",
    "    # 一定モデルの場合\n",
    "    const = np.array([1] * len(x)).reshape(-1, 1)\n",
    "    const_model = sm.GLM(y, const, family=sm.families.Poisson())\n",
    "    const_result = const_model.fit()\n",
    "    const_d = const_result.deviance\n",
    "    \n",
    "    # xモデルの場合\n",
    "    x = sm.add_constant(x)\n",
    "    x_model = sm.GLM(y, x, family=sm.families.Poisson())\n",
    "    x_result = x_model.fit()\n",
    "    x_d = x_result.deviance\n",
    "    \n",
    "    return const_d - x_d, const_result, x_result"
   ]
  },
  {
   "cell_type": "code",
   "execution_count": 4,
   "metadata": {},
   "outputs": [
    {
     "name": "stdout",
     "output_type": "stream",
     "text": [
      "一定モデルで推定された平均種子数: 7.830000000000001\n",
      "逸脱度の差: 4.513941078851801\n"
     ]
    }
   ],
   "source": [
    "lam = np.exp(calc_delta_d(df['x'], df['y'])[1].params['const'])\n",
    "print('一定モデルで推定された平均種子数: {}'.format(lam))\n",
    "\n",
    "observed_delta_d = calc_delta_d(df['x'], df['y'])[0]\n",
    "print('逸脱度の差: {}'.format(observed_delta_d))"
   ]
  },
  {
   "cell_type": "code",
   "execution_count": 5,
   "metadata": {},
   "outputs": [],
   "source": [
    "def plot_delta_d(x, lam=7.85, observed_delta_d=4.5, num_sample=1000):\n",
    "    \"\"\"逸脱度の差の確率分布のプロット\n",
    "\n",
    "    Args:\n",
    "        x: サイズ\n",
    "        lam (float, optional): 一定モデルで推定された平均種子数. Defaults to 7.85.\n",
    "        observed_delta_d (float, optional): 観察された逸脱度の差. Defaults to 4.5.\n",
    "        num_sample (int, optional): サンプル数. Defaults to 1000.\n",
    "\n",
    "    Returns:\n",
    "        delta_d_list (list): 逸脱度の差のリスト\n",
    "    \"\"\"\n",
    "    delta_d_list = []\n",
    "    # pb\n",
    "    for i in range(num_sample):\n",
    "        np.random.seed(i)\n",
    "        y = np.random.poisson(lam=lam, size=len(x))\n",
    "        delta_d = calc_delta_d(x, y)[0]\n",
    "        delta_d_list.append(delta_d)\n",
    "        \n",
    "    plt.hist(delta_d_list, bins=50)\n",
    "    plt.axvline(observed_delta_d, color='black')\n",
    "    \n",
    "    return delta_d_list"
   ]
  },
  {
   "cell_type": "code",
   "execution_count": 6,
   "metadata": {},
   "outputs": [
    {
     "data": {
      "image/png": "[encoded data removed]",
      "text/plain": [
       "<Figure size 432x288 with 1 Axes>"
      ]
     },
     "metadata": {
      "needs_background": "light"
     },
     "output_type": "display_data"
    }
   ],
   "source": [
    "delta_d_list = plot_delta_d(df['x'], lam=lam, observed_delta_d=observed_delta_d)"
   ]
  },
  {
   "cell_type": "code",
   "execution_count": 7,
   "metadata": {},
   "outputs": [
    {
     "data": {
      "text/plain": [
       "count    1000.000000\n",
       "mean        0.998564\n",
       "std         1.481499\n",
       "min         0.000003\n",
       "25%         0.099596\n",
       "50%         0.406487\n",
       "75%         1.166055\n",
       "max        11.223541\n",
       "dtype: float64"
      ]
     },
     "execution_count": 7,
     "metadata": {},
     "output_type": "execute_result"
    }
   ],
   "source": [
    "pd.Series(delta_d_list).describe()"
   ]
  },
  {
   "cell_type": "code",
   "execution_count": 8,
   "metadata": {},
   "outputs": [
    {
     "data": {
      "text/plain": [
       "0.039"
      ]
     },
     "execution_count": 8,
     "metadata": {},
     "output_type": "execute_result"
    }
   ],
   "source": [
    "# P値を求める\n",
    "(np.array(delta_d_list) >= observed_delta_d).sum() / len(delta_d_list)"
   ]
  },
  {
   "cell_type": "code",
   "execution_count": 9,
   "metadata": {},
   "outputs": [
    {
     "data": {
      "text/plain": [
       "4.100229386145446"
      ]
     },
     "execution_count": 9,
     "metadata": {},
     "output_type": "execute_result"
    }
   ],
   "source": [
    "# 棄却点を求める\n",
    "np.percentile(np.array(delta_d_list), 95)"
   ]
  },
  {
   "cell_type": "code",
   "execution_count": 10,
   "metadata": {},
   "outputs": [
    {
     "data": {
      "text/plain": [
       "0.033619691008985805"
      ]
     },
     "execution_count": 10,
     "metadata": {},
     "output_type": "execute_result"
    }
   ],
   "source": [
    "# カイ二乗分布で近似した時のP値\n",
    "chi2.sf(x=observed_delta_d, df=1)"
   ]
  },
  {
   "cell_type": "code",
   "execution_count": null,
   "metadata": {},
   "outputs": [],
   "source": []
  }
 ],
 "metadata": {
  "kernelspec": {
   "display_name": "base",
   "language": "python",
   "name": "python3"
  },
  "language_info": {
   "codemirror_mode": {
    "name": "ipython",
    "version": 3
   },
   "file_extension": ".py",
   "mimetype": "text/x-python",
   "name": "python",
   "nbconvert_exporter": "python",
   "pygments_lexer": "ipython3",
   "version": "3.9.12"
  },
  "orig_nbformat": 4
 },
 "nbformat": 4,
 "nbformat_minor": 2
}
