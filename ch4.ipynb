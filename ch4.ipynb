{
 "cells": [
  {
   "cell_type": "code",
   "execution_count": 52,
   "metadata": {},
   "outputs": [],
   "source": [
    "import pandas as pd\n",
    "import statsmodels.api as sm\n",
    "from scipy.stats import poisson\n",
    "import numpy as np"
   ]
  },
  {
   "cell_type": "code",
   "execution_count": 37,
   "metadata": {},
   "outputs": [
    {
     "data": {
      "text/html": [
       "<div>\n",
       "<style scoped>\n",
       "    .dataframe tbody tr th:only-of-type {\n",
       "        vertical-align: middle;\n",
       "    }\n",
       "\n",
       "    .dataframe tbody tr th {\n",
       "        vertical-align: top;\n",
       "    }\n",
       "\n",
       "    .dataframe thead th {\n",
       "        text-align: right;\n",
       "    }\n",
       "</style>\n",
       "<table border=\"1\" class=\"dataframe\">\n",
       "  <thead>\n",
       "    <tr style=\"text-align: right;\">\n",
       "      <th></th>\n",
       "      <th>y</th>\n",
       "      <th>x</th>\n",
       "      <th>f</th>\n",
       "    </tr>\n",
       "  </thead>\n",
       "  <tbody>\n",
       "    <tr>\n",
       "      <th>0</th>\n",
       "      <td>6</td>\n",
       "      <td>8.31</td>\n",
       "      <td>C</td>\n",
       "    </tr>\n",
       "    <tr>\n",
       "      <th>1</th>\n",
       "      <td>6</td>\n",
       "      <td>9.44</td>\n",
       "      <td>C</td>\n",
       "    </tr>\n",
       "    <tr>\n",
       "      <th>2</th>\n",
       "      <td>6</td>\n",
       "      <td>9.50</td>\n",
       "      <td>C</td>\n",
       "    </tr>\n",
       "    <tr>\n",
       "      <th>3</th>\n",
       "      <td>12</td>\n",
       "      <td>9.07</td>\n",
       "      <td>C</td>\n",
       "    </tr>\n",
       "    <tr>\n",
       "      <th>4</th>\n",
       "      <td>10</td>\n",
       "      <td>10.16</td>\n",
       "      <td>C</td>\n",
       "    </tr>\n",
       "  </tbody>\n",
       "</table>\n",
       "</div>"
      ],
      "text/plain": [
       "    y      x  f\n",
       "0   6   8.31  C\n",
       "1   6   9.44  C\n",
       "2   6   9.50  C\n",
       "3  12   9.07  C\n",
       "4  10  10.16  C"
      ]
     },
     "execution_count": 37,
     "metadata": {},
     "output_type": "execute_result"
    }
   ],
   "source": [
    "df = pd.read_csv('data3a.csv')\n",
    "df.head(5)"
   ]
  },
  {
   "cell_type": "code",
   "execution_count": 58,
   "metadata": {},
   "outputs": [
    {
     "name": "stdout",
     "output_type": "stream",
     "text": [
      "最大対数尤度: -235.4\n",
      "逸脱度: 470.8\n"
     ]
    }
   ],
   "source": [
    "# 施肥効果を無視した場合の逸脱度を求める\n",
    "\n",
    "X = df['x']\n",
    "X = sm.add_constant(X)\n",
    "y = df['y']\n",
    "\n",
    "model = sm.GLM(y, X, family=sm.families.Poisson())\n",
    "results = model.fit()\n",
    "\n",
    "llf = results.llf\n",
    "print(f'最大対数尤度: {llf:.1f}')\n",
    "\n",
    "deviance = -2 * llf\n",
    "print(f'逸脱度: {deviance:.1f}')"
   ]
  },
  {
   "cell_type": "code",
   "execution_count": 60,
   "metadata": {},
   "outputs": [
    {
     "name": "stdout",
     "output_type": "stream",
     "text": [
      "フルモデルの逸脱度: 385.8\n"
     ]
    }
   ],
   "source": [
    "# フルモデルの逸脱度を求める\n",
    "\n",
    "f = lambda x: poisson.pmf(k=x, mu=x)\n",
    "min_deviance = -2 * np.log(y.apply(f).cumprod().iloc[-1])\n",
    "print(f'フルモデルの逸脱度: {min_deviance:.1f}')"
   ]
  },
  {
   "cell_type": "code",
   "execution_count": 63,
   "metadata": {},
   "outputs": [
    {
     "name": "stdout",
     "output_type": "stream",
     "text": [
      "残差逸脱度: 85.0\n"
     ]
    }
   ],
   "source": [
    "rd = deviance - min_deviance\n",
    "print(f'残差逸脱度: {rd:.1f}')"
   ]
  },
  {
   "cell_type": "code",
   "execution_count": 75,
   "metadata": {},
   "outputs": [
    {
     "name": "stdout",
     "output_type": "stream",
     "text": [
      "残差逸脱度: 89.5\n",
      "最大対数尤度: -237.6\n",
      "逸脱度: 475.3\n"
     ]
    }
   ],
   "source": [
    "# null modelの場合\n",
    "\n",
    "X = np.array([1] * len(df)).reshape(-1, 1)\n",
    "\n",
    "model = sm.GLM(y, X, family=sm.families.Poisson())\n",
    "results = model.fit()\n",
    "\n",
    "rd = results.deviance\n",
    "llf = results.llf\n",
    "deviance = -2 * llf\n",
    "\n",
    "print(f'残差逸脱度: {rd:.1f}')\n",
    "print(f'最大対数尤度: {llf:.1f}')\n",
    "print(f'逸脱度: {deviance:.1f}')"
   ]
  },
  {
   "cell_type": "code",
   "execution_count": null,
   "metadata": {},
   "outputs": [],
   "source": []
  }
 ],
 "metadata": {
  "kernelspec": {
   "display_name": "base",
   "language": "python",
   "name": "python3"
  },
  "language_info": {
   "codemirror_mode": {
    "name": "ipython",
    "version": 3
   },
   "file_extension": ".py",
   "mimetype": "text/x-python",
   "name": "python",
   "nbconvert_exporter": "python",
   "pygments_lexer": "ipython3",
   "version": "3.9.12"
  },
  "orig_nbformat": 4
 },
 "nbformat": 4,
 "nbformat_minor": 2
}
